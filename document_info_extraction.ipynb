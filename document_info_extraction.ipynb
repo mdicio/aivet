{
 "cells": [
  {
   "cell_type": "code",
   "execution_count": null,
   "metadata": {},
   "outputs": [
    {
     "name": "stderr",
     "output_type": "stream",
     "text": [
      "/home/boom/.pyenv/versions/aivet/lib/python3.11/site-packages/huggingface_hub/file_download.py:797: FutureWarning: `resume_download` is deprecated and will be removed in version 1.0.0. Downloads always resume when possible. If you want to force a new download, use `force_download=True`.\n",
      "  warnings.warn(\n",
      "Special tokens have been added in the vocabulary, make sure the associated word embeddings are fine-tuned or trained.\n",
      "/home/boom/.pyenv/versions/aivet/lib/python3.11/site-packages/huggingface_hub/file_download.py:797: FutureWarning: `resume_download` is deprecated and will be removed in version 1.0.0. Downloads always resume when possible. If you want to force a new download, use `force_download=True`.\n",
      "  warnings.warn(\n",
      "Unused kwargs: ['_load_in_4bit', '_load_in_8bit', 'quant_method']. These kwargs are not used in <class 'transformers.utils.quantization_config.BitsAndBytesConfig'>.\n"
     ]
    },
    {
     "data": {
      "application/vnd.jupyter.widget-view+json": {
       "model_id": "48650ed7695a450c8b9c60033407bfbb",
       "version_major": 2,
       "version_minor": 0
      },
      "text/plain": [
       "Loading checkpoint shards:   0%|          | 0/5 [00:00<?, ?it/s]"
      ]
     },
     "metadata": {},
     "output_type": "display_data"
    },
    {
     "name": "stderr",
     "output_type": "stream",
     "text": [
      "/home/boom/.pyenv/versions/aivet/lib/python3.11/site-packages/huggingface_hub/file_download.py:797: FutureWarning: `resume_download` is deprecated and will be removed in version 1.0.0. Downloads always resume when possible. If you want to force a new download, use `force_download=True`.\n",
      "  warnings.warn(\n"
     ]
    }
   ],
   "source": [
    "import torch\n",
    "from transformers import AutoModelForCausalLM, AutoTokenizer\n",
    "from PIL import Image\n",
    "\n",
    "device = \"cuda:0\"\n",
    "\n",
    "modelPath = \"nikravan/glm-4vq\"\n",
    "tokenizer = AutoTokenizer.from_pretrained(modelPath, trust_remote_code=True)\n",
    "\n",
    "model = AutoModelForCausalLM.from_pretrained(\n",
    "    modelPath,\n",
    "    torch_dtype=torch.bfloat16,\n",
    "    low_cpu_mem_usage=True,\n",
    "    trust_remote_code=True,\n",
    "    device_map=\"auto\",\n",
    "    use_cache=True,\n",
    ")"
   ]
  },
  {
   "cell_type": "code",
   "execution_count": 3,
   "metadata": {},
   "outputs": [
    {
     "name": "stderr",
     "output_type": "stream",
     "text": [
      "2024-11-06 10:51:13.238333: E external/local_xla/xla/stream_executor/cuda/cuda_fft.cc:477] Unable to register cuFFT factory: Attempting to register factory for plugin cuFFT when one has already been registered\n",
      "WARNING: All log messages before absl::InitializeLog() is called are written to STDERR\n",
      "E0000 00:00:1730886673.305570    7387 cuda_dnn.cc:8310] Unable to register cuDNN factory: Attempting to register factory for plugin cuDNN when one has already been registered\n",
      "E0000 00:00:1730886673.327537    7387 cuda_blas.cc:1418] Unable to register cuBLAS factory: Attempting to register factory for plugin cuBLAS when one has already been registered\n",
      "2024-11-06 10:51:13.472068: I tensorflow/core/platform/cpu_feature_guard.cc:210] This TensorFlow binary is optimized to use available CPU instructions in performance-critical operations.\n",
      "To enable the following instructions: AVX2 FMA, in other operations, rebuild TensorFlow with the appropriate compiler flags.\n"
     ]
    },
    {
     "name": "stdout",
     "output_type": "stream",
     "text": [
      "Certainly, here are the blood test chemical names, their detected levels, and the corresponding normal ranges:\n",
      "\n",
      "| Chemical Name                     | Detected Level | Normal Range (Adults) |\n",
      "|------------------------------------|-----------------|-----------------------|\n",
      "| CPK (IU/L)                        | 217             | 45 - 155              |\n",
      "| AST (IU/L)                        | 36              | 10 - 45               |\n",
      "| ALT (IU/L)                        | 83              | 10 - 60               |\n",
      "| ALP (IU/L)                        | 2780            | 45 - 152              |\n",
      "| GGT (IU/L)                        | 3,0             | 0,1 - 13              |\n",
      "| Bilirubina Tot (mg/dl)            | 0,10            | 0,10 - 0,44           |\n",
      "| Proteine Tot (g/dl)               | 7,2             | 5,8 - 8,0             |\n",
      "| Albumine (g/dl)                   | 3,26            | 2,6 - 3,8             |\n",
      "| Globuline (g/dl)                  | 3,90            | 2,6 - 4,5             |\n",
      "| Rapp. Alb/Glob                    | 0,84            | 0,84 - 1,91           |\n",
      "| Colesterolo (mg/dl)               | 201             | 120 - 300             |\n",
      "| Trigliceridi (mg/dl)              | 158             | 30 - 95               |\n",
      "| Amiasi (IU/L)                     | 836             | 200 - 1900            |\n",
      "| Lipasi (U/L)                      | 64              | 10 - 350              |\n",
      "| UREA (mg/dl)                      | 21              | 15 - 45               |\n",
      "| CREA (mg/dl)                      | 0,69            | 0,60 - 1,80           |\n",
      "| Glucosio (mg/dl)                  | 88              | 70 - 110              |\n",
      "| Calcio (mg/dl)                    | 9,80            | 8,0 - 12,0            |\n",
      "| Acido Urico (mg/dl)               | -               | 0,2 - 1               |\n",
      "| Fosforo (mg/dl)                   | 3,90            | 2,5 - 5,6             |\n",
      "| Sodio (mEq/L)                     | 150             | 144 - 155             |\n",
      "| Potassio (mEq/L)                  | 4,9             | 3,3 - 5,4             |\n",
      "| Rapp. Na/K                        | 30,61           | > 27                  |\n",
      "| Rapp. mEq/L                       | 111             | 100 - 118             |\n",
      "| Magnesio (mg/dl)                  | 1,50            | 1,60 - 2,48           |\n",
      "| Calcio Ionio (mmol/L)             | 0,97            | 1,34 - 1,34           |\n",
      "\n",
      "Please note that the normal ranges for some tests (like CPK, AST, ALT, ALP, and GGT) are given in IU/L, while others (like bilirubina, proteine, albumine, globuline, colesterolo, trigliceridi, lipasi, UREA, CREA, glucosio, calcio, acido urico, fosforo, sodio, potassio, magnesio, calcio ionico) are given in mg/dl. The normal range for albumine is given in g/dl, and for bilirubina, it is given in mg/dl. <|endoftext|>\n"
     ]
    }
   ],
   "source": [
    "query = \"Extract all the blood test chemical name values, their detected level and the corresponding normal range\"\n",
    "image = Image.open(\"data/ref1.png\").convert(\"RGB\")\n",
    "# image=\"\"\n",
    "inputs = tokenizer.apply_chat_template(\n",
    "    [{\"role\": \"user\", \"image\": image, \"content\": query}],\n",
    "    add_generation_prompt=True,\n",
    "    tokenize=True,\n",
    "    return_tensors=\"pt\",\n",
    "    return_dict=True,\n",
    ")  # chat with image mode\n",
    "\n",
    "inputs = inputs.to(device)\n",
    "\n",
    "gen_kwargs = {\"max_length\": 2500, \"do_sample\": True, \"top_k\": 1}\n",
    "with torch.no_grad():\n",
    "    outputs = model.generate(**inputs, **gen_kwargs)\n",
    "    outputs = outputs[:, inputs[\"input_ids\"].shape[1] :]\n",
    "    print(tokenizer.decode(outputs[0]))"
   ]
  },
  {
   "cell_type": "code",
   "execution_count": 6,
   "metadata": {},
   "outputs": [
    {
     "name": "stdout",
     "output_type": "stream",
     "text": [
      "Certainly, here are the blood test chemical names, their detected levels, and the corresponding normal ranges:\n",
      "\n",
      "1. CPK (IU/L): Detected level: 217, Normal range: 45 - 155\n",
      "2. AST (IU/L): Detected level: 36, Normal range: 10 - 45\n",
      "3. ALT (IU/L): Detected level: 83, Normal range: 10 - 60\n",
      "4. ALP (IU/L): Detected level: 2780, Normal range: 45 - 152\n",
      "5. GGT (IU/L): Detected level: 3,0, Normal range: 0,1 - 0,13\n",
      "6. Bilirubina Tot (mg/dl): Detected level: 0,10, Normal range: 0,10 - 0,44\n",
      "7. Proteine Tot (g/dl): Detected level: 7,2, Normal range: 5,8 - 8,0\n",
      "8. Albumine (g/dl): Detected level: 3,26, Normal range: 2,6 - 3,8\n",
      "9. Globuline (g/dl): Detected level: 3,90, Normal range: 2,6 - 4,5\n",
      "10. Rapp. Alb/Glob: Detected level: 0,84, Normal range: 0,84 - 1,91\n",
      "11. Colesterolo (mg/dl): Detected level: 201, Normal range: 120 - 300\n",
      "12. Trigliceridi (mg/dl): Detected level: 158, Normal range: 30 - 95\n",
      "13. Amiasi (IU/L): Detected level: 836, Normal range: 200 - 1900\n",
      "14. Lipasi (IU/L): Detected level: 64, Normal range: 10 - 350\n",
      "15. UREA (mg/dl): Detected level: 21, Normal range: 15 - 45\n",
      "16. CREA (mg/dl): Detected level: 0,69, Normal range: 0,60 - 1,80\n",
      "17. Glucosio (mg/dl): Detected level: 88, Normal range: 70 - 110\n",
      "18. Calcio (mg/dl): Detected level: 9,80, Normal range: 8,0 - 12,0\n",
      "19. Acido Urico (mg/dl): Detected level: -, Normal range: 0,2 - 1\n",
      "20. Fosforo (mg/dl): Detected level: 3,90, Normal range: 2,5 - 5,6\n",
      "21. Sodio (mEq/L): Detected level: 150, Normal range: 144 - 155\n",
      "22. Potassio (mEq/L): Detected level: 4,9, Normal range: 3,3 - 5,4\n",
      "23. Rapp. Na/K: Detected level: 30,61, Normal range: > 27\n",
      "24. Rapp. mEq/L: Detected level: 111, Normal range: 100 - 118\n",
      "25. Magnesio (mg/dl): Detected level: 1,50, Normal range: 1,60 - 2,48\n",
      "26. Calcio Ionio (mmol/L): Detected level: 0,97, Normal range: 1,34 - 2,34\n",
      "27. Cloro corr. (mEq/L): Detected level: 108,04, Normal range: 98, 118\n",
      "28. HCO3 (mEq/L): Detected level: 21, Normal range: 17,0 - 25,2\n",
      "29. Div. anionico: Detected level: 23, Normal range: 12,0 - 24,0\n",
      "30. Osmolarità cal. (mOsm): Detected level: 322, Normal range: 314 - 335\n",
      "31. Ferro (μg/dl): Detected level: 114, Normal range: 100 - 280\n",
      "32. UBC (μg/dl): Detected level: 330, Normal range: 150 - 350\n",
      "33. TIBC (μg/dl): Detected level: 444, Normal range: 300 - 510\n",
      "34. Saturazione (%): Detected level: 25,68, Normal range: 30 - 60\n",
      "35. Ferritina (ng/ml): Detected level: -, Normal range: 21 - 78\n",
      "36. Aptoglobina HPT (mg/dl): Detected level: -, Normal range: 20 - 60\n",
      "37. Ac. Billari pre (μmol/L): Detected level: -, Normal range: 0,3 - 9\n",
      "38. Ac. Billari post (μmol/L): Detected level: -, Normal range: 0,6 - 30\n",
      "39. Alfa 2 Macroglobulina (g/L): Detected level: -, Normal range: 0,02 - 0,65\n",
      "40. Cistatina (mg/L): Detected level: 2282, Normal range: 3350 - 6550\n",
      "41. Coleinesterasi (IU/L): Detected level: -, Normal range: 30 - 398\n",
      "42. LDH (IU/L): Detected level: -, Normal range: 188 - 351\n",
      "43. Fruttosamina (μmol/L): Detected level: -, Normal range: 0,2 - 9,0\n",
      "44. Lattato (mg/dl): Detected level: -, Normal range: 0,5 - 4,95\n",
      "45. Ceruloplasmina (mg/dl): Detected level: -, Normal range: 2,5 - 0,10\n",
      "46. Proteina C Reatt. (mg/dl): Detected level: -, Normal range: 0,01 - 0,10\n",
      "47. AGP (mg/ml): Detected level: -, Normal range: 0,01 - 0,10\n",
      "\n",
      "Please note that the normal ranges are provided as a reference and actual interpretation of the test results should be done by a veterinarian considering the specific condition and health status of the patient. <|endoftext|>\n"
     ]
    }
   ],
   "source": [
    "query = \"Extract all the blood test chemical name values, their detected level and the corresponding normal range\"\n",
    "image = Image.open(\"data/ref1.png\").convert(\"RGB\")\n",
    "# image=\"\"\n",
    "inputs = tokenizer.apply_chat_template(\n",
    "    [{\"role\": \"user\", \"image\": image, \"content\": query}],\n",
    "    add_generation_prompt=True,\n",
    "    tokenize=True,\n",
    "    return_tensors=\"pt\",\n",
    "    return_dict=True,\n",
    ")  # chat with image mode\n",
    "\n",
    "inputs = inputs.to(device)\n",
    "\n",
    "gen_kwargs = {\"max_length\": 2500, \"do_sample\": True, \"top_k\": 1, \"temperature\": 0.2}\n",
    "with torch.no_grad():\n",
    "    outputs = model.generate(**inputs, **gen_kwargs)\n",
    "    outputs = outputs[:, inputs[\"input_ids\"].shape[1] :]\n",
    "    print(tokenizer.decode(outputs[0]))"
   ]
  },
  {
   "cell_type": "code",
   "execution_count": null,
   "metadata": {},
   "outputs": [],
   "source": []
  }
 ],
 "metadata": {
  "kernelspec": {
   "display_name": "aivet",
   "language": "python",
   "name": "python3"
  },
  "language_info": {
   "codemirror_mode": {
    "name": "ipython",
    "version": 3
   },
   "file_extension": ".py",
   "mimetype": "text/x-python",
   "name": "python",
   "nbconvert_exporter": "python",
   "pygments_lexer": "ipython3",
   "version": "3.11.0"
  }
 },
 "nbformat": 4,
 "nbformat_minor": 2
}
