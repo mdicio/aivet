{
 "cells": [
  {
   "cell_type": "code",
   "execution_count": 1,
   "metadata": {},
   "outputs": [
    {
     "name": "stderr",
     "output_type": "stream",
     "text": [
      "/home/boom/.pyenv/versions/aivet/lib/python3.11/site-packages/huggingface_hub/file_download.py:797: FutureWarning: `resume_download` is deprecated and will be removed in version 1.0.0. Downloads always resume when possible. If you want to force a new download, use `force_download=True`.\n",
      "  warnings.warn(\n",
      "Special tokens have been added in the vocabulary, make sure the associated word embeddings are fine-tuned or trained.\n",
      "/home/boom/.pyenv/versions/aivet/lib/python3.11/site-packages/huggingface_hub/file_download.py:797: FutureWarning: `resume_download` is deprecated and will be removed in version 1.0.0. Downloads always resume when possible. If you want to force a new download, use `force_download=True`.\n",
      "  warnings.warn(\n",
      "Unused kwargs: ['_load_in_4bit', '_load_in_8bit', 'quant_method']. These kwargs are not used in <class 'transformers.utils.quantization_config.BitsAndBytesConfig'>.\n"
     ]
    },
    {
     "data": {
      "application/vnd.jupyter.widget-view+json": {
       "model_id": "0d6253686fce42e6890b8734d60fa22d",
       "version_major": 2,
       "version_minor": 0
      },
      "text/plain": [
       "Loading checkpoint shards:   0%|          | 0/5 [00:00<?, ?it/s]"
      ]
     },
     "metadata": {},
     "output_type": "display_data"
    },
    {
     "name": "stderr",
     "output_type": "stream",
     "text": [
      "/home/boom/.pyenv/versions/aivet/lib/python3.11/site-packages/huggingface_hub/file_download.py:797: FutureWarning: `resume_download` is deprecated and will be removed in version 1.0.0. Downloads always resume when possible. If you want to force a new download, use `force_download=True`.\n",
      "  warnings.warn(\n"
     ]
    }
   ],
   "source": [
    "import torch\n",
    "from transformers import AutoModelForCausalLM, AutoTokenizer\n",
    "from PIL import Image\n",
    "\n",
    "device = \"cuda:0\"\n",
    "\n",
    "modelPath = \"nikravan/glm-4vq\"\n",
    "tokenizer = AutoTokenizer.from_pretrained(modelPath, trust_remote_code=True)\n",
    "\n",
    "model = AutoModelForCausalLM.from_pretrained(\n",
    "    modelPath,\n",
    "    torch_dtype=torch.bfloat16,\n",
    "    low_cpu_mem_usage=True,\n",
    "    trust_remote_code=True,\n",
    "    device_map=\"auto\",\n",
    "    use_cache=True,\n",
    ")"
   ]
  },
  {
   "cell_type": "code",
   "execution_count": 4,
   "metadata": {},
   "outputs": [
    {
     "name": "stdout",
     "output_type": "stream",
     "text": [
      "Certainly, here is a structured list of blood test details from the provided report:\n",
      "\n",
      "- Chemical Name: Creatine Kinase (CPK) (IU/L)\n",
      "  - Detected Level: 217\n",
      "  - Normal Range: 45 - 155\n",
      "- Chemical Name: Alanine Aminotransferase (AST) (IU/L)\n",
      "  - Detected Level: 36\n",
      "  - Normal Range: 10 - 45\n",
      "- Chemical Name: Aspartate Aminotransferase (ALT) (IU/L)\n",
      "  - Detected Level: 83\n",
      "  - Normal Range: 10 - 60\n",
      "- Chemical Name: Alkaline Phosphatase (ALP) (IU/L)\n",
      "  - Detected Level: 2780\n",
      "  - Normal Range: 45 - 152\n",
      "- Chemical Name: Gamma-Glutamyl Transpeptidase (GGT) (IU/L)\n",
      "  - Detected Level: 3,0\n",
      "  - Normal Range: 0,1 - 13\n",
      "- Chemical Name: Bilirubina Total (mg/dl)\n",
      "  - Detected Level: 0,10\n",
      "  - Normal Range: 0,10 - 0,44\n",
      "- Chemical Name: Protein Total (g/dl)\n",
      "  - Detected Level: 7,2\n",
      "  - Normal Range: 5,8 - 8,0\n",
      "- Chemical Name: Albumine (g/dl)\n",
      "  - Detected Level: 3,26\n",
      "  - Normal Range: 2,6 - 3,8\n",
      "- Chemical Name: Globuline (g/dl)\n",
      "  - Detected Level: 3,90\n",
      "  - Normal Range: 2,6 - 4,5\n",
      "- Chemical Name: Rapp. Alb/Glob\n",
      "  - Detected Level: 0,84\n",
      "  - Normal Range: 0,84 - 1,91\n",
      "- Chemical Name: Colesterolo (mg/dl)\n",
      "  - Detected Level: 201\n",
      "  - Normal Range: 120 - 300\n",
      "- Chemical Name: Trigliceridi (mg/dl)\n",
      "  - Detected Level: 158\n",
      "  - Normal Range: 30 - 95\n",
      "- Chemical Name: Amilasi (IU/L)\n",
      "  - Detected Level: 836\n",
      "  - Normal Range: 200 - 1900\n",
      "- Chemical Name: Lipasi (IU/L)\n",
      "  - Detected Level: 64\n",
      "  - Normal Range: 10 - 350\n",
      "- Chemical Name: UREA (mg/dl)\n",
      "  - Detected Level: 21\n",
      "  - Normal Range: 15 - 45\n",
      "- Chemical Name: Creatinina (mg/dl)\n",
      "  - Detected Level: 0,69\n",
      "  - Normal Range: 0,60 - 1,80\n",
      "- Chemical Name: Glucosio (mg/dl)\n",
      "  - Detected Level: 88\n",
      "  - Normal Range: 70 - 110\n",
      "- Chemical Name: Calcio (mg/dl)\n",
      "  - Detected Level: 9,80\n",
      "  - Normal Range: 8,0 - 12,0\n",
      "- Chemical Name: Acido Urico (mg/dl)\n",
      "  - Detected Level: 0,2\n",
      "  - Normal Range: 0,2 - 1\n",
      "- Chemical Name: Fosforo (mg/dl)\n",
      "  - Detected Level: 3,90\n",
      "  - Normal Range: 2,5 - 5,6\n",
      "- Chemical Name: Sodio (mEq/L)\n",
      "  - Detected Level: 150\n",
      "  - Normal Range: 144 - 155\n",
      "- Chemical Name: Potassio (mEq/L)\n",
      "  - Detected Level: 4,9\n",
      "  - Normal Range: 3,3 - 5,4\n",
      "- Chemical Name: Rapp. Na/K\n",
      "  - Detected Level: 30,61\n",
      "  - Normal Range: > 27\n",
      "- Chemical Name: Magnesio (mg/dl)\n",
      "  - Detected Level: 111\n",
      "  - Normal Range: 1,60 - 2,48\n",
      "- Chemical Name: Calcio Iónico (mmol/L)\n",
      "  - Detected Level: 1,50\n",
      "  - Normal Range: 0,97 - 1,34\n",
      "\n",
      "Please note that the detected levels are rounded to the nearest integer, and the normal ranges are as provided in the report. <|endoftext|>\n"
     ]
    }
   ],
   "source": [
    "query = \"\"\"Task: Extract and list all blood test details.\n",
    "\n",
    "Objective:\n",
    "1. Identify and extract **chemical names** from the blood test report.\n",
    "2. Capture the **detected levels** of each chemical.\n",
    "3. Extract the **normal range** for each corresponding chemical.\n",
    "\n",
    "Expected Output Format:\n",
    "- Chemical Name: [Name]\n",
    "  - Detected Level: [Value]\n",
    "  - Normal Range: [Min Value] - [Max Value]\n",
    "\n",
    "Please ensure accurate extraction, including any unit symbols (e.g., mg/dL, IU/L), and handle variations in formatting or alignment. Return results in a structured list format for easy readability.\"\"\"\n",
    "image = Image.open(\"data/ref1.png\").convert(\"RGB\")\n",
    "# image=\"\"\n",
    "inputs = tokenizer.apply_chat_template(\n",
    "    [{\"role\": \"user\", \"image\": image, \"content\": query}],\n",
    "    add_generation_prompt=True,\n",
    "    tokenize=True,\n",
    "    return_tensors=\"pt\",\n",
    "    return_dict=True,\n",
    ")  # chat with image mode\n",
    "\n",
    "inputs = inputs.to(device)\n",
    "\n",
    "gen_kwargs = {\"max_length\": 2500, \"do_sample\": True, \"top_k\": 1, \"temperature\": 0.2}\n",
    "with torch.no_grad():\n",
    "    outputs = model.generate(**inputs, **gen_kwargs)\n",
    "    outputs = outputs[:, inputs[\"input_ids\"].shape[1] :]\n",
    "    print(tokenizer.decode(outputs[0]))"
   ]
  },
  {
   "cell_type": "code",
   "execution_count": null,
   "metadata": {},
   "outputs": [
    {
     "name": "stdout",
     "output_type": "stream",
     "text": [
      "Based on the blood test results provided, the following molecules have detected values that are outside the normal range:\n",
      "\n",
      "1. **Creatinine (CREA, mg/dl):** The detected value is 21, which is outside the normal range of 0.69 - 1.80.\n",
      "2. **Urea (UREA, mg/dl):** The detected value is 350, which is outside the normal range of 15 - 45.\n",
      "3. **Glucose (GLUCOSIO, mg/dl):** The detected value is 88, which is outside the normal range of 70 - 110.\n",
      "4. **Potassium (POTASSIO, mEq/L):** The detected value is 4.9, which is outside the normal range of 3.3 - 5.4.\n",
      "5. **Magnesium (MAGNESIO, mg/dl):** The detected value is 1.50, which is outside the normal range of 1.34 - 2.48.\n",
      "6. **Alanine aminotransferase (ALT, IU/L):** The detected value is 83, which is outside the normal range of 10 - 45.\n",
      "7. **Aspartate aminotransferase (AST, IU/L):** The detected value is 36, which is outside the normal range of 10 - 60.\n",
      "8. **Gamma-glutamyltransferase (GGT, IU/L):** The detected value is 3,0, which is outside the normal range of 0,1 - 0,13.\n",
      "9. **Total bilirubin (Bilirubina Tot, mg/dl):** The detected value is 0,10, which is outside the normal range of 0,10 - 0,44.\n",
      "10. **Albumin (ALBUMINE, g/dl):** The detected value is 3,26, which is outside the normal range of 2,6 - 3,8.\n",
      "11. **Total protein (PROTEINA TOT, g/dl):** The detected value is 7,2, which is outside the normal range of 5,8 - 8,0.\n",
      "12. **Uric acid (ACIDO URICO, mg/dl):** The detected value is 9,80, which is outside the normal range of 8,0 - 12,0.\n",
      "13. **Sodium (SODIO, mEq/L):** The detected value is 150, which is outside the normal range of 144 - 155.\n",
      "14. **Chloride (CHLORO, mEq/L):** The detected value is 108,04, which is outside the normal range of 98, - 118.\n",
      "15. **Potassium (POTASSIO, mEq/L):** The detected value is 4.9, which is outside the normal range of 3.3 - 5.4.\n",
      "16. **Magnesium (MAGNESIO, mg/dl):** The detected value is 1.50, which is outside the normal range of 1.34 - 2.48.\n",
      "17. **Total bilirubin (Bilirubina Tot, mg/dl):** The detected value is 0,10, which is outside the normal range of 0,10 - 0,44.\n",
      "18. **Albumin (ALBUMINE, g/dl):** The detected value is 3,26, which is outside the normal range of 2,6 - 3,8.\n",
      "19. **Total protein (PROTEINA TOT, g/dl):** The detected value is 7,2, which is outside the normal range of 5,8 - 8,0.\n",
      "20. **Uric acid (ACIDO URICO, mg/dl):** The detected value is 9,80, which is outside the normal range of 8,0 - 12,0. <|endoftext|>\n"
     ]
    }
   ],
   "source": [
    "query = \"Extract all the blood test chemical name values, their detected level and the corresponding normal range\"\n",
    "image = Image.open(\"data/ref1.png\").convert(\"RGB\")\n",
    "inputs = tokenizer.apply_chat_template(\n",
    "    [{\"role\": \"user\", \"image\": image, \"content\": query}],\n",
    "    add_generation_prompt=True,\n",
    "    tokenize=True,\n",
    "    return_tensors=\"pt\",\n",
    "    return_dict=True,\n",
    ")  # chat with image mode\n",
    "\n",
    "inputs = inputs.to(device)\n",
    "\n",
    "gen_kwargs = {\"max_length\": 2500, \"do_sample\": True, \"top_k\": 1, \"temperature\": 0.2}\n",
    "with torch.no_grad():\n",
    "    outputs = model.generate(**inputs, **gen_kwargs)\n",
    "    outputs = outputs[:, inputs[\"input_ids\"].shape[1] :]\n",
    "    print(tokenizer.decode(outputs[0]))"
   ]
  },
  {
   "cell_type": "code",
   "execution_count": null,
   "metadata": {},
   "outputs": [],
   "source": []
  }
 ],
 "metadata": {
  "kernelspec": {
   "display_name": "aivet",
   "language": "python",
   "name": "python3"
  },
  "language_info": {
   "codemirror_mode": {
    "name": "ipython",
    "version": 3
   },
   "file_extension": ".py",
   "mimetype": "text/x-python",
   "name": "python",
   "nbconvert_exporter": "python",
   "pygments_lexer": "ipython3",
   "version": "3.11.0"
  }
 },
 "nbformat": 4,
 "nbformat_minor": 2
}
