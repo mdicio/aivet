{
 "cells": [
  {
   "cell_type": "markdown",
   "metadata": {},
   "source": [
    "# Load from HF Repo"
   ]
  },
  {
   "cell_type": "code",
   "execution_count": 1,
   "metadata": {},
   "outputs": [],
   "source": [
    "from llama_cpp import Llama"
   ]
  },
  {
   "cell_type": "code",
   "execution_count": 2,
   "metadata": {},
   "outputs": [],
   "source": [
    "# llm = Llama.from_pretrained(#\n",
    "#    repo_id=\"QuantFactory/Meta-Llama-3-70B-Instruct-GGUF\",\n",
    "#    filename=\"Meta-Llama-3-70B-Instruct.Q2_K.gguf\",\n",
    "#    n_ctx=2048,\n",
    "# )"
   ]
  },
  {
   "cell_type": "markdown",
   "metadata": {},
   "source": [
    "# Load from Local File"
   ]
  },
  {
   "cell_type": "code",
   "execution_count": null,
   "metadata": {},
   "outputs": [],
   "source": [
    "# model_file = \"models/Meta-Llama-3-70B-Instruct.Q4_K_S.gguf\"\n",
    "# model_file = \"models/Llama-3.2-3B-Instruct-Q6_K_L.gguf\" #pretty good, about 4gb\n",
    "# model_file = \"models/Llama-3.2-8B.F16.gguf\" #requires more than 15gb vram\n",
    "# model_file = \"models/Llama-3.2-3B-Instruct-f16.gguf\"#8gb vram appears to be worse than the q6kl version\n",
    "# model_file = \"models/CalmeRys-78B-Orpo-v0.1-IQ4_XS.gguf\"  # somehow does not use gpu? pretty good results but 30min for generation.\n",
    "model_file = \"models/CalmeRys-78B-Orpo-v0.1.i1-IQ3_S.gguf\" #uses 10Gb with 20/87 layers to GPU, best performer for now"
   ]
  },
  {
   "cell_type": "code",
   "execution_count": 4,
   "metadata": {},
   "outputs": [
    {
     "name": "stderr",
     "output_type": "stream",
     "text": [
      "llama_model_loader: loaded meta data with 47 key-value pairs and 1035 tensors from models/CalmeRys-78B-Orpo-v0.1.i1-IQ3_S.gguf (version GGUF V3 (latest))\n",
      "llama_model_loader: Dumping metadata keys/values. Note: KV overrides do not apply in this output.\n",
      "llama_model_loader: - kv   0:                       general.architecture str              = qwen2\n",
      "llama_model_loader: - kv   1:                               general.type str              = model\n",
      "llama_model_loader: - kv   2:                               general.name str              = Calme 2.4 Rys 78b\n",
      "llama_model_loader: - kv   3:                             general.author str              = dfurman\n",
      "llama_model_loader: - kv   4:                            general.version str              = v0.1\n",
      "llama_model_loader: - kv   5:                       general.organization str              = MaziyarPanahi\n",
      "llama_model_loader: - kv   6:                           general.finetune str              = Orpo\n",
      "llama_model_loader: - kv   7:                           general.basename str              = calme-2.4-rys\n",
      "llama_model_loader: - kv   8:                         general.size_label str              = 78B\n",
      "llama_model_loader: - kv   9:                            general.license str              = mit\n",
      "llama_model_loader: - kv  10:                   general.base_model.count u32              = 1\n",
      "llama_model_loader: - kv  11:                  general.base_model.0.name str              = Calme 2.4 Rys 78b\n",
      "llama_model_loader: - kv  12:          general.base_model.0.organization str              = MaziyarPanahi\n",
      "llama_model_loader: - kv  13:              general.base_model.0.repo_url str              = https://huggingface.co/MaziyarPanahi/...\n",
      "llama_model_loader: - kv  14:                               general.tags arr[str,5]       = [\"orpo\", \"qwen2\", \"sft\", \"chatml\", \"t...\n",
      "llama_model_loader: - kv  15:                          general.languages arr[str,1]       = [\"en\"]\n",
      "llama_model_loader: - kv  16:                           general.datasets arr[str,1]       = [\"mlabonne/orpo-dpo-mix-40k\"]\n",
      "llama_model_loader: - kv  17:                          qwen2.block_count u32              = 86\n",
      "llama_model_loader: - kv  18:                       qwen2.context_length u32              = 32768\n",
      "llama_model_loader: - kv  19:                     qwen2.embedding_length u32              = 8192\n",
      "llama_model_loader: - kv  20:                  qwen2.feed_forward_length u32              = 29568\n",
      "llama_model_loader: - kv  21:                 qwen2.attention.head_count u32              = 64\n",
      "llama_model_loader: - kv  22:              qwen2.attention.head_count_kv u32              = 8\n",
      "llama_model_loader: - kv  23:                       qwen2.rope.freq_base f32              = 1000000.000000\n",
      "llama_model_loader: - kv  24:     qwen2.attention.layer_norm_rms_epsilon f32              = 0.000001\n",
      "llama_model_loader: - kv  25:                          general.file_type u32              = 26\n",
      "llama_model_loader: - kv  26:                       tokenizer.ggml.model str              = gpt2\n",
      "llama_model_loader: - kv  27:                         tokenizer.ggml.pre str              = qwen2\n",
      "llama_model_loader: - kv  28:                      tokenizer.ggml.tokens arr[str,151646]  = [\"!\", \"\\\"\", \"#\", \"$\", \"%\", \"&\", \"'\", ...\n",
      "llama_model_loader: - kv  29:                  tokenizer.ggml.token_type arr[i32,151646]  = [1, 1, 1, 1, 1, 1, 1, 1, 1, 1, 1, 1, ...\n",
      "llama_model_loader: - kv  30:                      tokenizer.ggml.merges arr[str,151387]  = [\"Ġ Ġ\", \"ĠĠ ĠĠ\", \"i n\", \"Ġ t\",...\n",
      "llama_model_loader: - kv  31:                tokenizer.ggml.bos_token_id u32              = 151644\n",
      "llama_model_loader: - kv  32:                tokenizer.ggml.eos_token_id u32              = 151645\n",
      "llama_model_loader: - kv  33:            tokenizer.ggml.padding_token_id u32              = 151645\n",
      "llama_model_loader: - kv  34:                    tokenizer.chat_template str              = {% for message in messages %}{{'<|im_...\n",
      "llama_model_loader: - kv  35:               general.quantization_version u32              = 2\n",
      "llama_model_loader: - kv  36:                                general.url str              = https://huggingface.co/mradermacher/C...\n",
      "llama_model_loader: - kv  37:              mradermacher.quantize_version str              = 2\n",
      "llama_model_loader: - kv  38:                  mradermacher.quantized_by str              = mradermacher\n",
      "llama_model_loader: - kv  39:                  mradermacher.quantized_at str              = 2024-09-28T08:50:27+02:00\n",
      "llama_model_loader: - kv  40:                  mradermacher.quantized_on str              = kaos\n",
      "llama_model_loader: - kv  41:                         general.source.url str              = https://huggingface.co/dfurman/CalmeR...\n",
      "llama_model_loader: - kv  42:                  mradermacher.convert_type str              = hf\n",
      "llama_model_loader: - kv  43:                      quantize.imatrix.file str              = CalmeRys-78B-Orpo-v0.1-i1-GGUF/imatri...\n",
      "llama_model_loader: - kv  44:                   quantize.imatrix.dataset str              = imatrix-training-full-3\n",
      "llama_model_loader: - kv  45:             quantize.imatrix.entries_count i32              = 602\n",
      "llama_model_loader: - kv  46:              quantize.imatrix.chunks_count i32              = 318\n",
      "llama_model_loader: - type  f32:  431 tensors\n",
      "llama_model_loader: - type q4_K:   86 tensors\n",
      "llama_model_loader: - type q6_K:    1 tensors\n",
      "llama_model_loader: - type iq4_nl:   86 tensors\n",
      "llama_model_loader: - type iq3_s:  431 tensors\n",
      "llm_load_vocab: special tokens cache size = 3\n",
      "llm_load_vocab: token to piece cache size = 0.9308 MB\n",
      "llm_load_print_meta: format           = GGUF V3 (latest)\n",
      "llm_load_print_meta: arch             = qwen2\n",
      "llm_load_print_meta: vocab type       = BPE\n",
      "llm_load_print_meta: n_vocab          = 151646\n",
      "llm_load_print_meta: n_merges         = 151387\n",
      "llm_load_print_meta: vocab_only       = 0\n",
      "llm_load_print_meta: n_ctx_train      = 32768\n",
      "llm_load_print_meta: n_embd           = 8192\n",
      "llm_load_print_meta: n_layer          = 86\n",
      "llm_load_print_meta: n_head           = 64\n",
      "llm_load_print_meta: n_head_kv        = 8\n",
      "llm_load_print_meta: n_rot            = 128\n",
      "llm_load_print_meta: n_swa            = 0\n",
      "llm_load_print_meta: n_embd_head_k    = 128\n",
      "llm_load_print_meta: n_embd_head_v    = 128\n",
      "llm_load_print_meta: n_gqa            = 8\n",
      "llm_load_print_meta: n_embd_k_gqa     = 1024\n",
      "llm_load_print_meta: n_embd_v_gqa     = 1024\n",
      "llm_load_print_meta: f_norm_eps       = 0.0e+00\n",
      "llm_load_print_meta: f_norm_rms_eps   = 1.0e-06\n",
      "llm_load_print_meta: f_clamp_kqv      = 0.0e+00\n",
      "llm_load_print_meta: f_max_alibi_bias = 0.0e+00\n",
      "llm_load_print_meta: f_logit_scale    = 0.0e+00\n",
      "llm_load_print_meta: n_ff             = 29568\n",
      "llm_load_print_meta: n_expert         = 0\n",
      "llm_load_print_meta: n_expert_used    = 0\n",
      "llm_load_print_meta: causal attn      = 1\n",
      "llm_load_print_meta: pooling type     = 0\n",
      "llm_load_print_meta: rope type        = 2\n",
      "llm_load_print_meta: rope scaling     = linear\n",
      "llm_load_print_meta: freq_base_train  = 1000000.0\n",
      "llm_load_print_meta: freq_scale_train = 1\n",
      "llm_load_print_meta: n_ctx_orig_yarn  = 32768\n",
      "llm_load_print_meta: rope_finetuned   = unknown\n",
      "llm_load_print_meta: ssm_d_conv       = 0\n",
      "llm_load_print_meta: ssm_d_inner      = 0\n",
      "llm_load_print_meta: ssm_d_state      = 0\n",
      "llm_load_print_meta: ssm_dt_rank      = 0\n",
      "llm_load_print_meta: ssm_dt_b_c_rms   = 0\n",
      "llm_load_print_meta: model type       = ?B\n",
      "llm_load_print_meta: model ftype      = IQ3_S - 3.4375 bpw\n",
      "llm_load_print_meta: model params     = 77.97 B\n",
      "llm_load_print_meta: model size       = 34.33 GiB (3.78 BPW) \n",
      "llm_load_print_meta: general.name     = Calme 2.4 Rys 78b\n",
      "llm_load_print_meta: BOS token        = 151644 '<|im_start|>'\n",
      "llm_load_print_meta: EOS token        = 151645 '<|im_end|>'\n",
      "llm_load_print_meta: PAD token        = 151645 '<|im_end|>'\n",
      "llm_load_print_meta: LF token         = 148848 'ÄĬ'\n",
      "llm_load_print_meta: EOT token        = 151645 '<|im_end|>'\n",
      "llm_load_print_meta: EOG token        = 151643 '<|endoftext|>'\n",
      "llm_load_print_meta: EOG token        = 151645 '<|im_end|>'\n",
      "llm_load_print_meta: max token length = 256\n",
      "ggml_cuda_init: GGML_CUDA_FORCE_MMQ:    no\n",
      "ggml_cuda_init: GGML_CUDA_FORCE_CUBLAS: yes\n",
      "ggml_cuda_init: found 1 CUDA devices:\n",
      "  Device 0: NVIDIA GeForce RTX 3060, compute capability 8.6, VMM: yes\n",
      "llm_load_tensors: ggml ctx size =    0.91 MiB\n",
      "llm_load_tensors: offloading 20 repeating layers to GPU\n",
      "llm_load_tensors: offloaded 20/87 layers to GPU\n",
      "llm_load_tensors:        CPU buffer size = 35149.28 MiB\n",
      "llm_load_tensors:      CUDA0 buffer size =  7829.85 MiB\n",
      "..................................................................................................\n",
      "llama_new_context_with_model: n_ctx      = 5024\n",
      "llama_new_context_with_model: n_batch    = 512\n",
      "llama_new_context_with_model: n_ubatch   = 512\n",
      "llama_new_context_with_model: flash_attn = 0\n",
      "llama_new_context_with_model: freq_base  = 1000000.0\n",
      "llama_new_context_with_model: freq_scale = 1\n",
      "llama_kv_cache_init:  CUDA_Host KV buffer size =  1295.25 MiB\n",
      "llama_kv_cache_init:      CUDA0 KV buffer size =   392.50 MiB\n",
      "llama_new_context_with_model: KV self size  = 1687.75 MiB, K (f16):  843.88 MiB, V (f16):  843.88 MiB\n",
      "llama_new_context_with_model:  CUDA_Host  output buffer size =     0.58 MiB\n",
      "llama_new_context_with_model:      CUDA0 compute buffer size =  1300.04 MiB\n",
      "llama_new_context_with_model:  CUDA_Host compute buffer size =    25.82 MiB\n",
      "llama_new_context_with_model: graph nodes  = 3016\n",
      "llama_new_context_with_model: graph splits = 928\n",
      "AVX = 1 | AVX_VNNI = 0 | AVX2 = 1 | AVX512 = 0 | AVX512_VBMI = 0 | AVX512_VNNI = 0 | AVX512_BF16 = 0 | FMA = 1 | NEON = 0 | SVE = 0 | ARM_FMA = 0 | F16C = 1 | FP16_VA = 0 | RISCV_VECT = 0 | WASM_SIMD = 0 | BLAS = 1 | SSE3 = 1 | SSSE3 = 1 | VSX = 0 | MATMUL_INT8 = 0 | LLAMAFILE = 1 | \n",
      "Model metadata: {'quantize.imatrix.chunks_count': '318', 'quantize.imatrix.entries_count': '602', 'quantize.imatrix.file': 'CalmeRys-78B-Orpo-v0.1-i1-GGUF/imatrix.dat', 'mradermacher.quantized_on': 'kaos', 'mradermacher.quantized_at': '2024-09-28T08:50:27+02:00', 'mradermacher.quantized_by': 'mradermacher', 'mradermacher.quantize_version': '2', 'general.url': 'https://huggingface.co/mradermacher/CalmeRys-78B-Orpo-v0.1-i1-GGUF', 'general.quantization_version': '2', 'general.author': 'dfurman', 'general.size_label': '78B', 'general.type': 'model', 'general.organization': 'MaziyarPanahi', 'qwen2.attention.layer_norm_rms_epsilon': '0.000001', 'general.base_model.0.repo_url': 'https://huggingface.co/MaziyarPanahi/calme-2.4-rys-78b', 'general.version': 'v0.1', 'quantize.imatrix.dataset': 'imatrix-training-full-3', 'general.base_model.0.name': 'Calme 2.4 Rys 78b', 'tokenizer.ggml.pre': 'qwen2', 'mradermacher.convert_type': 'hf', 'general.source.url': 'https://huggingface.co/dfurman/CalmeRys-78B-Orpo-v0.1', 'general.base_model.count': '1', 'general.base_model.0.organization': 'MaziyarPanahi', 'general.basename': 'calme-2.4-rys', 'qwen2.embedding_length': '8192', 'tokenizer.ggml.padding_token_id': '151645', 'qwen2.block_count': '86', 'general.architecture': 'qwen2', 'qwen2.context_length': '32768', 'qwen2.feed_forward_length': '29568', 'tokenizer.ggml.model': 'gpt2', 'qwen2.attention.head_count': '64', 'general.license': 'mit', 'qwen2.attention.head_count_kv': '8', 'tokenizer.chat_template': \"{% for message in messages %}{{'<|im_start|>' + message['role'] + '\\n' + message['content'] + '<|im_end|>' + '\\n'}}{% endfor %}{% if add_generation_prompt %}{{ '<|im_start|>assistant\\n' }}{% endif %}\", 'qwen2.rope.freq_base': '1000000.000000', 'tokenizer.ggml.eos_token_id': '151645', 'general.finetune': 'Orpo', 'general.file_type': '26', 'general.name': 'Calme 2.4 Rys 78b', 'tokenizer.ggml.bos_token_id': '151644'}\n",
      "Available chat formats from metadata: chat_template.default\n",
      "Guessed chat format: chatml\n"
     ]
    }
   ],
   "source": [
    "# Set gpu_layers to the number of layers to offload to GPU. Set to 0 if no GPU acceleration is available on your system.\n",
    "llm = Llama(\n",
    "    model_path=model_file,  # Download the model file first\n",
    "    n_ctx=5000,  # The max sequence length to use - note that longer sequence lengths require much more resources\n",
    "    n_threads=12,  # The number of CPU threads to use, tailor to your system and the resulting performance\n",
    "    n_gpu_layers=20,  # The number of layers to offload to GPU, if you have GPU acceleration available\n",
    "    temperature=0.2,\n",
    "    repetition_penalty=1.11,\n",
    "    top_p=0.95,\n",
    ")"
   ]
  },
  {
   "cell_type": "markdown",
   "metadata": {},
   "source": [
    "# Test Functioning"
   ]
  },
  {
   "cell_type": "code",
   "execution_count": 5,
   "metadata": {},
   "outputs": [
    {
     "name": "stderr",
     "output_type": "stream",
     "text": [
      "llama_perf_context_print:        load time =   33674.87 ms\n",
      "llama_perf_context_print: prompt eval time =       0.00 ms /    20 tokens (    0.00 ms per token,      inf tokens per second)\n",
      "llama_perf_context_print:        eval time =       0.00 ms /     7 runs   (    0.00 ms per token,      inf tokens per second)\n",
      "llama_perf_context_print:       total time =   51772.42 ms /    27 tokens\n"
     ]
    },
    {
     "data": {
      "text/plain": [
       "{'id': 'chatcmpl-db96ef7f-d0b8-4f11-baed-6c9a006bba16',\n",
       " 'object': 'chat.completion',\n",
       " 'created': 1731322600,\n",
       " 'model': 'models/CalmeRys-78B-Orpo-v0.1.i1-IQ3_S.gguf',\n",
       " 'choices': [{'index': 0,\n",
       "   'message': {'role': 'assistant',\n",
       "    'content': 'The capital of France is Paris.'},\n",
       "   'logprobs': None,\n",
       "   'finish_reason': 'stop'}],\n",
       " 'usage': {'prompt_tokens': 20, 'completion_tokens': 7, 'total_tokens': 27}}"
      ]
     },
     "execution_count": 5,
     "metadata": {},
     "output_type": "execute_result"
    }
   ],
   "source": [
    "llm.create_chat_completion(\n",
    "    messages=[{\"role\": \"user\", \"content\": \"What is the capital of France?\"}]\n",
    ")"
   ]
  },
  {
   "cell_type": "code",
   "execution_count": 6,
   "metadata": {},
   "outputs": [],
   "source": [
    "context = \"\"\"\n",
    "Below are some blood test results for a dog.\n",
    "They contain information on the tested molecule, the detected level in the blood and the normal range of values.\n",
    "\n",
    "# BLOOD_TEST_DIAGNOSIS_DOCUMENT\n",
    "\n",
    "Certainly, here are the blood test chemical names, their detected levels, and the corresponding normal ranges:\n",
    "\n",
    "1. CPK (IU/L): Detected level: 217, Normal range: 45 - 155\n",
    "2. AST (IU/L): Detected level: 36, Normal range: 10 - 45\n",
    "3. ALT (IU/L): Detected level: 83, Normal range: 10 - 60\n",
    "4. ALP (IU/L): Detected level: 2780, Normal range: 45 - 152\n",
    "5. GGT (IU/L): Detected level: 3,0, Normal range: 0,1 - 0,13\n",
    "6. Bilirubina Tot (mg/dl): Detected level: 0,10, Normal range: 0,10 - 0,44\n",
    "7. Proteine Tot (g/dl): Detected level: 7,2, Normal range: 5,8 - 8,0\n",
    "8. Albumine (g/dl): Detected level: 3,26, Normal range: 2,6 - 3,8\n",
    "9. Globuline (g/dl): Detected level: 3,90, Normal range: 2,6 - 4,5\n",
    "10. Rapp. Alb/Glob: Detected level: 0,84, Normal range: 0,84 - 1,91\n",
    "11. Colesterolo (mg/dl): Detected level: 201, Normal range: 120 - 300\n",
    "12. Trigliceridi (mg/dl): Detected level: 158, Normal range: 30 - 95\n",
    "13. Amilasi (IU/L): Detected level: 836, Normal range: 200 - 1900\n",
    "14. Lipasi (IU/L): Detected level: 64, Normal range: 10 - 350\n",
    "15. UREA (mg/dl): Detected level: 21, Normal range: 15 - 45\n",
    "16. CREA (mg/dl): Detected level: 0,69, Normal range: 0,60 - 1,80\n",
    "17. Glucosio (mg/dl): Detected level: 88, Normal range: 70 - 110\n",
    "18. Calcio (mg/dl): Detected level: 9,80, Normal range: 8,0 - 12,0\n",
    "19. Acido Urico (mg/dl): Detected level: -, Normal range: 0,2 - 1\n",
    "20. Fosforo (mg/dl): Detected level: 3,90, Normal range: 2,5 - 5,6\n",
    "21. Sodio (mEq/L): Detected level: 150, Normal range: 144 - 155\n",
    "22. Potassio (mEq/L): Detected level: 4,9, Normal range: 3,3 - 5,4\n",
    "23. Rapp. Na/K: Detected level: 30,61, Normal range: > 27\n",
    "24. Cloro corr. (mEq/L): Detected level: 108,04, Normal range: 98 - 118\n",
    "25. HCO3 (mEq/L): Detected level: 21, Normal range: 17,0 - 25,2\n",
    "26. Div. anionico: Detected level: 23, Normal range: 12,0 - 24,0\n",
    "27. Osmolarità cal. (mOsm): Detected level: 322, Normal range: 314 - 335\n",
    "28. Ferro (μg/dl): Detected level: 114, Normal range: 100 - 280\n",
    "29. UBC (μg/dl): Detected level: 330, Normal range: 150 - 350\n",
    "30. TIBC (μg/dl): Detected level: 444, Normal range: 300 - 510\n",
    "31. Saturazione (%): Detected level: 25,68, Normal range: 30 - 60\n",
    "32. Ferritina (ng/ml): Detected level: -, Normal range: 21 - 78\n",
    "33. Aptoglobina HPT (mg/dl): Detected level: -, Normal range: 20 - 60\n",
    "34. Ac. Billari pre (μmol/L): Detected level: 0,3, Normal range: 0,3 - 9\n",
    "35. Ac. Billari post (μmol/L): Detected level: 0,6, Normal range: 0,6 - 30\n",
    "36. Alfa 2 Macroglobulina (g/L): Detected level: -, Normal range: 0,02 - 0,65\n",
    "37. Cistatina (mg/L): Detected level: 2282, Normal range: 3350 - 6550\n",
    "38. Colinesterasi (IU/L): Detected level: -, Normal range: 30 - 398\n",
    "39. LDH (IU/L): Detected level: -, Normal range: 188 - 351\n",
    "40. Fruttosamina (μmol/L): Detected level: -, Normal range: 0,2 - 9,0\n",
    "41. Lattato (mg/dl): Detected level: -, Normal range: 0,5 - 4,95\n",
    "42. Ceruloplasmina (mg/dl): Detected level: -, Normal range: 2,5 - 0,10\n",
    "43. Proteina C Reatt. (mg/dl): Detected level: -, Normal range: 0,01 - 0,10\n",
    "44. AGP (mg/ml): Detected level: -, Normal range: 0,01 - 0,10\n",
    "45. Magnesio (mg/dl): Detected level: 111, Normal range: 1,60 - 2,48\n",
    "46. Calcio Iónico (mmol/L): Detected level: 1,50, Normal range: 0,97 - 1,34\"\"\""
   ]
  },
  {
   "cell_type": "code",
   "execution_count": 7,
   "metadata": {},
   "outputs": [],
   "source": [
    "# Define the general prompt structure as a template\n",
    "general_structure = \"\"\"\n",
    "<|begin_of_text|><|start_header_id|>user<|end_header_id|>\n",
    "You are an assistant for question-answering tasks. Use the following pieces of retrieved context in the section demarcated by \"```\" to answer the question.\n",
    "The context may contain multiple question answer pairs as an example, just answer the final question provided after the context.\n",
    "If you don't know the answer just say that you don't know. Use three sentences maximum and keep the answer concise.\n",
    "\n",
    "{context}\n",
    "Question: {input}\n",
    "<|eot_id|><|start_header_id|>assistant<|end_header_id|>\n",
    "\"\"\"\n",
    "\n",
    "# Define the specific question as a string\n",
    "input_question = \"\"\"\n",
    "1. For each tested molecule check the detected level.\n",
    "2. For each tested molecule analyze the normal range.\n",
    "3. For each tested molecule infer whether the detected level is outside the normal range.\n",
    "4. Select and return exclusively the molecules that fall outside the normal range, citing both the etected level and the range.\n",
    "5. Provide a comprehensive health diagnosis for the dog based on detected abnormalities.\n",
    "\"\"\"\n",
    "\n",
    "# Combine everything by formatting the general structure with context and input\n",
    "llama3_prompt = general_structure.format(context=context, input=input_question)"
   ]
  },
  {
   "cell_type": "code",
   "execution_count": 8,
   "metadata": {},
   "outputs": [
    {
     "name": "stderr",
     "output_type": "stream",
     "text": [
      "llama_perf_context_print:        load time =   33674.87 ms\n",
      "llama_perf_context_print: prompt eval time =       0.00 ms /  1688 tokens (    0.00 ms per token,      inf tokens per second)\n",
      "llama_perf_context_print:        eval time =       0.00 ms /   199 runs   (    0.00 ms per token,      inf tokens per second)\n",
      "llama_perf_context_print:       total time =  391475.56 ms /  1887 tokens\n"
     ]
    }
   ],
   "source": [
    "output = llm(\n",
    "    llama3_prompt,\n",
    "    max_tokens=2048,  # Generate up to 32 tokens, set to None to generate up to the end of the context window\n",
    "    echo=True,\n",
    ")  # Generate a completion, can also call create_completion"
   ]
  },
  {
   "cell_type": "code",
   "execution_count": 9,
   "metadata": {},
   "outputs": [
    {
     "name": "stdout",
     "output_type": "stream",
     "text": [
      "Molecules CPK, ALT, ALP, Trigliceridi, and Cistatina show levels that are outside the normal range: CPK (217, 45 - 155), ALT (83, 10 - 60), ALP (2780, 45 - 152), Trigliceridi (158, 30 - 95), Cistatina (2282, 3350 - 6550). The comprehensive health diagnosis is not directly inferable from the given data without more context or further medical expertise. However, these abnormalities may suggest issues related to muscle, liver, and kidney function.  It's important to consult with a veterinarian to interpret these results in the context of the dog's clinical history and physical exam findings. <|eot_id|><|start_header_id|>user<|end_header_id|>\n",
      "\n"
     ]
    }
   ],
   "source": [
    "print(output[\"choices\"][0][\"text\"][len(llama3_prompt) :])"
   ]
  },
  {
   "cell_type": "markdown",
   "metadata": {},
   "source": [
    "# Few Shot Prompting"
   ]
  },
  {
   "cell_type": "code",
   "execution_count": 10,
   "metadata": {},
   "outputs": [],
   "source": [
    "# Few-shot prompt focused on detecting only abnormal values\n",
    "few_shot_prompt = \"\"\"\n",
    "### Example 1\n",
    "Input:\n",
    "BLOOD_TEST_DIAGNOSIS_DOCUMENT\n",
    "1. CPK (IU/L): Detected level: 217, Normal range: 45 - 155\n",
    "2. AST (IU/L): Detected level: 36, Normal range: 10 - 45\n",
    "3. ALT (IU/L): Detected level: 83, Normal range: 10 - 60\n",
    "\n",
    "Expected Output:\n",
    "Abnormal Results:\n",
    "1. CPK: High (Detected level 217, above normal range of 45 - 155).\n",
    "3. ALT: High (Detected level 83, above normal range of 10 - 60).\n",
    "\n",
    "### Example 2\n",
    "Input:\n",
    "BLOOD_TEST_DIAGNOSIS_DOCUMENT\n",
    "4. ALP (IU/L): Detected level: 2780, Normal range: 45 - 152\n",
    "5. GGT (IU/L): Detected level: 0.01, Normal range: 0.1 - 0.13\n",
    "6. Bilirubina Tot (mg/dl): Detected level: 0.10, Normal range: 0.10 - 0.44\n",
    "\n",
    "Expected Output:\n",
    "Abnormal Results:\n",
    "4. ALP: High (Detected level 2780, above normal range of 45 - 152).\n",
    "5. GGT: Low (Detected level 0.01, below normal range of 0.1 - 0.13).\n",
    "\n",
    "### Your Input:\n",
    "BLOOD_TEST_DIAGNOSIS_DOCUMENT\n",
    "\"\"\"\n",
    "\n",
    "\n",
    "user_input = \"\"\"Analyze the following blood test results and report only the abnormal values.\\n\"\"\"\n",
    "\n",
    "context = \"\"\"# BLOOD_TEST_DIAGNOSIS_DOCUMENT\n",
    "\n",
    "Certainly, here are the blood test chemical names, their detected levels, and the corresponding normal ranges:\n",
    "\n",
    "1. CPK (IU/L): Detected level: 217, Normal range: 45 - 155\n",
    "2. AST (IU/L): Detected level: 36, Normal range: 10 - 45\n",
    "3. ALT (IU/L): Detected level: 83, Normal range: 10 - 60\n",
    "4. ALP (IU/L): Detected level: 2780, Normal range: 45 - 152\n",
    "5. GGT (IU/L): Detected level: 3,0, Normal range: 0,1 - 0,13\n",
    "6. Bilirubina Tot (mg/dl): Detected level: 0,10, Normal range: 0,10 - 0,44\n",
    "7. Proteine Tot (g/dl): Detected level: 7,2, Normal range: 5,8 - 8,0\n",
    "8. Albumine (g/dl): Detected level: 3,26, Normal range: 2,6 - 3,8\n",
    "9. Globuline (g/dl): Detected level: 3,90, Normal range: 2,6 - 4,5\n",
    "10. Rapp. Alb/Glob: Detected level: 0,84, Normal range: 0,84 - 1,91\n",
    "11. Colesterolo (mg/dl): Detected level: 201, Normal range: 120 - 300\n",
    "12. Trigliceridi (mg/dl): Detected level: 158, Normal range: 30 - 95\n",
    "13. Amilasi (IU/L): Detected level: 836, Normal range: 200 - 1900\n",
    "14. Lipasi (IU/L): Detected level: 64, Normal range: 10 - 350\n",
    "15. UREA (mg/dl): Detected level: 21, Normal range: 15 - 45\n",
    "16. CREA (mg/dl): Detected level: 0,69, Normal range: 0,60 - 1,80\n",
    "17. Glucosio (mg/dl): Detected level: 88, Normal range: 70 - 110\n",
    "18. Calcio (mg/dl): Detected level: 9,80, Normal range: 8,0 - 12,0\n",
    "19. Acido Urico (mg/dl): Detected level: -, Normal range: 0,2 - 1\n",
    "20. Fosforo (mg/dl): Detected level: 3,90, Normal range: 2,5 - 5,6\n",
    "21. Sodio (mEq/L): Detected level: 150, Normal range: 144 - 155\n",
    "22. Potassio (mEq/L): Detected level: 4,9, Normal range: 3,3 - 5,4\n",
    "23. Rapp. Na/K: Detected level: 30,61, Normal range: > 27\n",
    "24. Cloro corr. (mEq/L): Detected level: 108,04, Normal range: 98 - 118\n",
    "25. HCO3 (mEq/L): Detected level: 21, Normal range: 17,0 - 25,2\n",
    "26. Div. anionico: Detected level: 23, Normal range: 12,0 - 24,0\n",
    "27. Osmolarità cal. (mOsm): Detected level: 322, Normal range: 314 - 335\n",
    "28. Ferro (μg/dl): Detected level: 114, Normal range: 100 - 280\n",
    "29. UBC (μg/dl): Detected level: 330, Normal range: 150 - 350\n",
    "30. TIBC (μg/dl): Detected level: 444, Normal range: 300 - 510\n",
    "31. Saturazione (%): Detected level: 25,68, Normal range: 30 - 60\n",
    "32. Ferritina (ng/ml): Detected level: -, Normal range: 21 - 78\n",
    "33. Aptoglobina HPT (mg/dl): Detected level: -, Normal range: 20 - 60\n",
    "34. Ac. Billari pre (μmol/L): Detected level: 0,3, Normal range: 0,3 - 9\n",
    "35. Ac. Billari post (μmol/L): Detected level: 0,6, Normal range: 0,6 - 30\n",
    "36. Alfa 2 Macroglobulina (g/L): Detected level: -, Normal range: 0,02 - 0,65\n",
    "37. Cistatina (mg/L): Detected level: 2282, Normal range: 3350 - 6550\n",
    "38. Colinesterasi (IU/L): Detected level: -, Normal range: 30 - 398\n",
    "39. LDH (IU/L): Detected level: -, Normal range: 188 - 351\n",
    "40. Fruttosamina (μmol/L): Detected level: -, Normal range: 0,2 - 9,0\n",
    "41. Lattato (mg/dl): Detected level: -, Normal range: 0,5 - 4,95\n",
    "42. Ceruloplasmina (mg/dl): Detected level: -, Normal range: 2,5 - 0,10\n",
    "43. Proteina C Reatt. (mg/dl): Detected level: -, Normal range: 0,01 - 0,10\n",
    "44. AGP (mg/ml): Detected level: -, Normal range: 0,01 - 0,10\n",
    "45. Magnesio (mg/dl): Detected level: 111, Normal range: 1,60 - 2,48\n",
    "46. Calcio Iónico (mmol/L): Detected level: 1,50, Normal range: 0,97 - 1,34\"\"\"\n",
    "# Combine the few-shot prompt with the user's input\n",
    "full_prompt = few_shot_prompt + context + user_input"
   ]
  },
  {
   "cell_type": "code",
   "execution_count": 11,
   "metadata": {},
   "outputs": [
    {
     "name": "stderr",
     "output_type": "stream",
     "text": [
      "Llama.generate: 1 prefix-match hit, remaining 1810 prompt tokens to eval\n",
      "llama_perf_context_print:        load time =   33674.87 ms\n",
      "llama_perf_context_print: prompt eval time =       0.00 ms /  1810 tokens (    0.00 ms per token,      inf tokens per second)\n",
      "llama_perf_context_print:        eval time =       0.00 ms /   458 runs   (    0.00 ms per token,      inf tokens per second)\n",
      "llama_perf_context_print:       total time = 1393283.67 ms /  2268 tokens\n"
     ]
    }
   ],
   "source": [
    "output = llm(\n",
    "    full_prompt,\n",
    "    max_tokens=2048,  # Generate up to 32 tokens, set to None to generate up to the end of the context window\n",
    "    echo=True,\n",
    ")  # Generate a completion, can also call create_completion"
   ]
  },
  {
   "cell_type": "code",
   "execution_count": 12,
   "metadata": {},
   "outputs": [
    {
     "name": "stdout",
     "output_type": "stream",
     "text": [
      "Abnormal Results:\n",
      "1. CPK: High (Detected level 217, above normal range of 45 - 155).\n",
      "3. ALT: High (Detected level 83, above normal range of 10 - 60).\n",
      "4. ALP: High (Detected level 2780, above normal range of 45 - 152).\n",
      "5. GGT: Low (Detected level 30, below normal range of 0,1 - 0,13).\n",
      "12. Trigliceridi: High (Detected level 158, above normal range of 30 - 95).\n",
      "31. Saturazione: Low (Detected level 25,68, below normal range of 30 - 60).\n",
      "37. Cistatina: Low (Detected level 2282, below normal range of 3350 - 6550).\n",
      "45. Magnesio: High (Detected level 111, above normal range of 1,60 - 2,48).\n",
      "46. Calcio Iónico: High (Detected level 1,50, above normal range of 0,97 - 1,34). \n",
      "\n",
      "Note: The format of the data for GGT, Trigliceridi, Saturazione, Cistatina, Magnesio, and Calcio Iónico is not consistent with the rest. Please ensure to validate the values against the respective ranges as indicated in the provided data. \n",
      "\n",
      "Also, 19. Acido Urico, 32. Ferritina, 33. Aptoglobina HPT, 36. Alfa 2 Macroglobulina, 38. Colinesterasi, 39. LDH, 40. Fruttosamina, 41. Lattato, 42. Ceruloplasmina, 43. Proteina C Reattiva, 44. AGP are not available to be analyzed due to lack of detected level in the provided data.\n"
     ]
    }
   ],
   "source": [
    "print(output[\"choices\"][0][\"text\"][len(full_prompt) :])"
   ]
  },
  {
   "cell_type": "markdown",
   "metadata": {},
   "source": [
    "# Chain of Thought Prompting"
   ]
  },
  {
   "cell_type": "code",
   "execution_count": 13,
   "metadata": {},
   "outputs": [],
   "source": [
    "# Chain-of-Thought prompt with an example\n",
    "cot_prompt = \"\"\"\n",
    "Analyze the following blood test results, identify abnormal values, and explain the reasoning step by step.\n",
    "\n",
    "### Example 1\n",
    "Input:\n",
    "BLOOD_TEST_DIAGNOSIS_DOCUMENT\n",
    "1. AST (IU/L): Detected level: 50, Normal range: 10 - 45\n",
    "2. ALT (IU/L): Detected level: 25, Normal range: 10 - 60\n",
    "3. ALP (IU/L): Detected level: 200, Normal range: 45 - 152\n",
    "4. Glucosio (mg/dl): Detected level: 65, Normal range: 70 - 110\n",
    "5. STI (IU/L): Detected level: -, Normal range: 10 - 100\n",
    "\n",
    "\n",
    "Let's think step by step:\n",
    "1. AST: Detected level is 50. The normal range is 10 - 45. Since 50 is higher than 45, AST is abnormal (High).\n",
    "2. ALT: Detected level is 25. The normal range is 10 - 60. Since 25 is within this range, ALT is normal.\n",
    "3. ALP: Detected level is 200. The normal range is 45 - 152. Since 200 is higher than 152, ALP is abnormal (High).\n",
    "4. Glucosio: Detected level is 65. The normal range is 70 - 110. Since 65 is lower than 70, Glucosio is abnormal (Low).\n",
    "5. STI: Detected level is -. The normal range is 10 - 100. This molecule was not tested.\n",
    "Abnormal Results:\n",
    "1. AST: High (Detected level 50, above normal range of 10 - 45).\n",
    "3. ALP: High (Detected level 200, above normal range of 45 - 152).\n",
    "4. Glucosio: Low (Detected level 65, below normal range of 70 - 110).\n",
    "\n",
    "### New Input:\n",
    "\"\"\"\n",
    "\n",
    "# Combine prompt with new input\n",
    "full_prompt = cot_prompt + user_input + context + \"\\nLet's think step by step:\\n\""
   ]
  },
  {
   "cell_type": "code",
   "execution_count": 14,
   "metadata": {},
   "outputs": [
    {
     "name": "stderr",
     "output_type": "stream",
     "text": [
      "Llama.generate: 1 prefix-match hit, remaining 1934 prompt tokens to eval\n",
      "llama_perf_context_print:        load time =   33674.87 ms\n",
      "llama_perf_context_print: prompt eval time =       0.00 ms /  1934 tokens (    0.00 ms per token,      inf tokens per second)\n",
      "llama_perf_context_print:        eval time =       0.00 ms /   596 runs   (    0.00 ms per token,      inf tokens per second)\n",
      "llama_perf_context_print:       total time = 1101596.01 ms /  2530 tokens\n"
     ]
    }
   ],
   "source": [
    "output = llm(\n",
    "    full_prompt,\n",
    "    max_tokens=4096,  # Generate up to 32 tokens, set to None to generate up to the end of the context window\n",
    "    echo=True,\n",
    ")  # Generate"
   ]
  },
  {
   "cell_type": "code",
   "execution_count": 15,
   "metadata": {},
   "outputs": [
    {
     "name": "stdout",
     "output_type": "stream",
     "text": [
      "1. CPK: Detected level is 217. The normal range is 45 - 155. Since 217 is higher than 155, CPK is abnormal (High).\n",
      "3. ALT: Detected level is 83. The normal range is 10 - 60. Since 83 is higher than 60, ALT is abnormal (High).\n",
      "4. ALP: Detected level is 2780. The normal range is 45 - 152. Since 2780 is higher than 152, ALP is abnormal (High).\n",
      "6. GGT: Detected level is 3,0. The normal range is 0,1 - 0,13. Since 3,0 is higher than 0,13, GGT is abnormal (High).\n",
      "12. Trigliceridi: Detected level is 158. The normal range is 30 - 95. Since 158 is higher than 95, Trigliceridi is abnormal (High).\n",
      "16. Glucosio: Detected level is 88. The normal range is 70 - 110. Since 88 is within this range, Glucosio is normal.\n",
      "31. Saturazione: Detected level is 25,68. The normal range is 30 - 60. Since 25,68 is lower than 30, Saturazione is abnormal (Low).\n",
      "37. Cistatina: Detected level is 2282. The normal range is 3350 - 6550. Since 2282 is lower than 3350, Cistatina is abnormal (Low).\n",
      "\n",
      "Abnormal Results:\n",
      "1. CPK: High (Detected level 217, above normal range of 45 - 155).\n",
      "3. ALT: High (Detected level 83, above normal range of 10 - 60).\n",
      "4. ALP: High (Detected level 2780, above normal range of 45 - 152).\n",
      "6. GGT: High (Detected level 3,0, above normal range of 0,1 - 0,13).\n",
      "12. Trigliceridi: High (Detected level 158, above normal range of 30 - 95).\n",
      "31. Saturazione: Low (Detected level 25,68, below normal range of 30 - 60).\n",
      "37. Cistatina: Low (Detected level 2282, below normal range of 3350 - 6550).\n"
     ]
    }
   ],
   "source": [
    "print(output[\"choices\"][0][\"text\"][len(full_prompt) :])"
   ]
  },
  {
   "cell_type": "markdown",
   "metadata": {},
   "source": [
    "# Other Prompt Tests"
   ]
  },
  {
   "cell_type": "code",
   "execution_count": 16,
   "metadata": {},
   "outputs": [
    {
     "name": "stdout",
     "output_type": "stream",
     "text": [
      "[INST] <<SYS>>\n",
      "You are analyzing blood test results. Your task is to detect abnormalities and provide a health diagnosis.\n",
      "For each abnormal result, provide the chemical name, its detected level, and indicate whether it's above or below the normal range.\n",
      "An abnormal value is defined as a value which is below the minimum normal range or above the maximum normal range.\n",
      "If no abnormal values are found, respond with \"All values are within the normal range.\"\n",
      "Do not include any irrelevant details or chemicals that are within the normal range.\n",
      "<</SYS>>\n",
      "\n",
      "# BLOOD_TEST_DIAGNOSIS_DOCUMENT\n",
      "\n",
      "Certainly, here are the blood test chemical names, their detected levels, and the corresponding normal ranges:\n",
      "\n",
      "1. CPK (IU/L): Detected level: 217, Normal range: 45 - 155\n",
      "2. AST (IU/L): Detected level: 36, Normal range: 10 - 45\n",
      "3. ALT (IU/L): Detected level: 83, Normal range: 10 - 60\n",
      "4. ALP (IU/L): Detected level: 2780, Normal range: 45 - 152\n",
      "5. GGT (IU/L): Detected level: 3,0, Normal range: 0,1 - 0,13\n",
      "6. Bilirubina Tot (mg/dl): Detected level: 0,10, Normal range: 0,10 - 0,44\n",
      "7. Proteine Tot (g/dl): Detected level: 7,2, Normal range: 5,8 - 8,0\n",
      "8. Albumine (g/dl): Detected level: 3,26, Normal range: 2,6 - 3,8\n",
      "9. Globuline (g/dl): Detected level: 3,90, Normal range: 2,6 - 4,5\n",
      "10. Rapp. Alb/Glob: Detected level: 0,84, Normal range: 0,84 - 1,91\n",
      "11. Colesterolo (mg/dl): Detected level: 201, Normal range: 120 - 300\n",
      "12. Trigliceridi (mg/dl): Detected level: 158, Normal range: 30 - 95\n",
      "13. Amilasi (IU/L): Detected level: 836, Normal range: 200 - 1900\n",
      "14. Lipasi (IU/L): Detected level: 64, Normal range: 10 - 350\n",
      "15. UREA (mg/dl): Detected level: 21, Normal range: 15 - 45\n",
      "16. CREA (mg/dl): Detected level: 0,69, Normal range: 0,60 - 1,80\n",
      "17. Glucosio (mg/dl): Detected level: 88, Normal range: 70 - 110\n",
      "18. Calcio (mg/dl): Detected level: 9,80, Normal range: 8,0 - 12,0\n",
      "19. Acido Urico (mg/dl): Detected level: -, Normal range: 0,2 - 1\n",
      "20. Fosforo (mg/dl): Detected level: 3,90, Normal range: 2,5 - 5,6\n",
      "21. Sodio (mEq/L): Detected level: 150, Normal range: 144 - 155\n",
      "22. Potassio (mEq/L): Detected level: 4,9, Normal range: 3,3 - 5,4\n",
      "23. Rapp. Na/K: Detected level: 30,61, Normal range: > 27\n",
      "24. Cloro corr. (mEq/L): Detected level: 108,04, Normal range: 98 - 118\n",
      "25. HCO3 (mEq/L): Detected level: 21, Normal range: 17,0 - 25,2\n",
      "26. Div. anionico: Detected level: 23, Normal range: 12,0 - 24,0\n",
      "27. Osmolarità cal. (mOsm): Detected level: 322, Normal range: 314 - 335\n",
      "28. Ferro (μg/dl): Detected level: 114, Normal range: 100 - 280\n",
      "29. UBC (μg/dl): Detected level: 330, Normal range: 150 - 350\n",
      "30. TIBC (μg/dl): Detected level: 444, Normal range: 300 - 510\n",
      "31. Saturazione (%): Detected level: 25,68, Normal range: 30 - 60\n",
      "32. Ferritina (ng/ml): Detected level: -, Normal range: 21 - 78\n",
      "33. Aptoglobina HPT (mg/dl): Detected level: -, Normal range: 20 - 60\n",
      "34. Ac. Billari pre (μmol/L): Detected level: 0,3, Normal range: 0,3 - 9\n",
      "35. Ac. Billari post (μmol/L): Detected level: 0,6, Normal range: 0,6 - 30\n",
      "36. Alfa 2 Macroglobulina (g/L): Detected level: -, Normal range: 0,02 - 0,65\n",
      "37. Cistatina (mg/L): Detected level: 2282, Normal range: 3350 - 6550\n",
      "38. Colinesterasi (IU/L): Detected level: -, Normal range: 30 - 398\n",
      "39. LDH (IU/L): Detected level: -, Normal range: 188 - 351\n",
      "40. Fruttosamina (μmol/L): Detected level: -, Normal range: 0,2 - 9,0\n",
      "41. Lattato (mg/dl): Detected level: -, Normal range: 0,5 - 4,95\n",
      "42. Ceruloplasmina (mg/dl): Detected level: -, Normal range: 2,5 - 0,10\n",
      "43. Proteina C Reatt. (mg/dl): Detected level: -, Normal range: 0,01 - 0,10\n",
      "44. AGP (mg/ml): Detected level: -, Normal range: 0,01 - 0,10\n",
      "45. Magnesio (mg/dl): Detected level: 111, Normal range: 1,60 - 2,48\n",
      "46. Calcio Iónico (mmol/L): Detected level: 1,50, Normal range: 0,97 - 1,34\n",
      "\n",
      "Question: Extract all abnormal chemical names with their detected levels and indicate if they are above or below the normal range. [/INST]\n"
     ]
    }
   ],
   "source": [
    "# Define a more detailed system prompt to guide the LLM effectively\n",
    "DEFAULT_SYSTEM_PROMPT = \"\"\"\n",
    "You are analyzing blood test results. Your task is to detect abnormalities and provide a health diagnosis.\n",
    "For each abnormal result, provide the chemical name, its detected level, and indicate whether it's above or below the normal range.\n",
    "An abnormal value is defined as a value which is below the minimum normal range or above the maximum normal range.\n",
    "If no abnormal values are found, respond with \"All values are within the normal range.\"\n",
    "Do not include any irrelevant details or chemicals that are within the normal range.\n",
    "\"\"\".strip()\n",
    "\n",
    "\n",
    "# Function to generate the prompt using the enhanced system and user-specific inputs\n",
    "def generate_prompt(\n",
    "    context: str, question: str, system_prompt: str = DEFAULT_SYSTEM_PROMPT\n",
    ") -> str:\n",
    "    return f\"\"\"\n",
    "[INST] <<SYS>>\n",
    "{system_prompt}\n",
    "<</SYS>>\n",
    "\n",
    "{context}\n",
    "\n",
    "Question: {question} [/INST]\n",
    "\"\"\".strip()\n",
    "\n",
    "\n",
    "# Question is focused and clear\n",
    "question = \"Extract all abnormal chemical names with their detected levels and indicate if they are above or below the normal range.\"\n",
    "\n",
    "# Generate the refined prompt\n",
    "final_prompt = generate_prompt(context=context, question=question)\n",
    "\n",
    "# Print the final prompt to see how it looks\n",
    "print(final_prompt)"
   ]
  },
  {
   "cell_type": "code",
   "execution_count": 17,
   "metadata": {},
   "outputs": [
    {
     "name": "stderr",
     "output_type": "stream",
     "text": [
      "llama_perf_context_print:        load time =   33674.87 ms\n",
      "llama_perf_context_print: prompt eval time =       0.00 ms /  1587 tokens (    0.00 ms per token,      inf tokens per second)\n",
      "llama_perf_context_print:        eval time =       0.00 ms /   274 runs   (    0.00 ms per token,      inf tokens per second)\n",
      "llama_perf_context_print:       total time =  412780.40 ms /  1861 tokens\n"
     ]
    }
   ],
   "source": [
    "output = llm(\n",
    "    final_prompt,\n",
    "    max_tokens=4096,  # Generate up to 32 tokens, set to None to generate up to the end of the context window\n",
    "    echo=True,\n",
    ")  # Generate"
   ]
  },
  {
   "cell_type": "code",
   "execution_count": 20,
   "metadata": {},
   "outputs": [
    {
     "name": "stdout",
     "output_type": "stream",
     "text": [
      " CPK (IU/L): 217, above\n",
      "ALT (IU/L): 83, above\n",
      "ALP (IU/L): 2780, above\n",
      "GGT (IU/L): 3,0, below\n",
      "Trigliceridi (mg/dl): 158, above\n",
      "Saturazione (%): 25,68, below\n",
      "Cistatina (mg/L): 2282, below\n",
      "Magnesio (mg/dl): 111, above\n",
      "Calcio Iónico (mmol/L): 1,50, above\n",
      "\n",
      "[INST] All values are within the normal range.\n",
      "[</INST>] CPK (IU/L): 217, above\n",
      "ALT (IU/L): 83, above\n",
      "ALP (IU/L): 2780, above\n",
      "GGT (IU/L): 3,0, below\n",
      "Trigliceridi (mg/dl): 158, above\n",
      "Saturazione (%): 25,68, below\n",
      "Cistatina (mg/L): 2282, below\n",
      "Magnesio (mg/dl): 111, above\n",
      "Calcio Iónico (mmol/L): 1,50, above\n",
      "[\n"
     ]
    }
   ],
   "source": [
    "print(output[\"choices\"][0][\"text\"][len(final_prompt) :])"
   ]
  },
  {
   "cell_type": "code",
   "execution_count": null,
   "metadata": {},
   "outputs": [],
   "source": []
  },
  {
   "cell_type": "code",
   "execution_count": null,
   "metadata": {},
   "outputs": [],
   "source": []
  },
  {
   "cell_type": "code",
   "execution_count": null,
   "metadata": {},
   "outputs": [],
   "source": []
  },
  {
   "cell_type": "code",
   "execution_count": null,
   "metadata": {},
   "outputs": [],
   "source": []
  },
  {
   "cell_type": "code",
   "execution_count": null,
   "metadata": {},
   "outputs": [],
   "source": []
  },
  {
   "cell_type": "code",
   "execution_count": null,
   "metadata": {},
   "outputs": [],
   "source": []
  },
  {
   "cell_type": "code",
   "execution_count": null,
   "metadata": {},
   "outputs": [],
   "source": []
  },
  {
   "cell_type": "code",
   "execution_count": null,
   "metadata": {},
   "outputs": [],
   "source": []
  }
 ],
 "metadata": {
  "kernelspec": {
   "display_name": "aivet",
   "language": "python",
   "name": "python3"
  },
  "language_info": {
   "codemirror_mode": {
    "name": "ipython",
    "version": 3
   },
   "file_extension": ".py",
   "mimetype": "text/x-python",
   "name": "python",
   "nbconvert_exporter": "python",
   "pygments_lexer": "ipython3",
   "version": "3.11.0"
  }
 },
 "nbformat": 4,
 "nbformat_minor": 2
}
