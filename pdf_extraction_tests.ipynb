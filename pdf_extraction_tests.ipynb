{
 "cells": [
  {
   "cell_type": "code",
   "execution_count": null,
   "metadata": {
    "vscode": {
     "languageId": "plaintext"
    }
   },
   "outputs": [],
   "source": [
    "import fitz  # PyMuPDF\n",
    "import re\n",
    "\n",
    "# Define the key terms to look for based on the blood test markers observed in the PDF\n",
    "test_terms = [\n",
    "    \"CPK\", \"AST\", \"ALT\", \"ALP\", \"GGT\", \"Bilirubina Tot\", \"Proteine Tot\", \"Albumine\", \n",
    "    \"Colesterolo\", \"Trigliceridi\", \"Globuline\", \"Rapp. Alb/Glob\", \"Amilasi\", \"Lipasi\", \n",
    "    \"UREA\", \"CREA\", \"Glucosio\", \"Calcio\", \"Fosforo\", \"Sodio\", \"Potassio\", \n",
    "    \"Rapp. Na/K\", \"Cloro\", \"Cloro corr.\", \"Lattato\", \"HCO3\", \"Div. anionico\", \n",
    "    \"Osmolarità cal.\", \"Ferro\", \"UIBC\", \"TIBC\", \"Saturazione\", \"Ferritina\", \n",
    "    \"Ac. Biliari post\", \"Alfa 2 Macroglobulina\", \"Aptoglobina HPT\", \"Ac. Biliari pre\", \n",
    "    \"Cistatina C\", \"Colinesterasi\", \"LDH\", \"Fruttosamina\", \"Magnesio\", \n",
    "    \"Calcio Ionico\", \"Ceruloplasmina\", \"Proteina C Reatt.\", \"AGP\", \"Acido Urico\"\n",
    "]\n",
    "\n",
    "# Path to the PDF\n",
    "pdf_path = '/mnt/data/_referti_10522430585_20241022_Assin_dicio_hope_Bio_24L4609.pdf'\n",
    "\n",
    "def extract_blood_test_data(pdf_path):\n",
    "    blood_test_data = {}\n",
    "\n",
    "    # Open the PDF\n",
    "    with fitz.open(pdf_path) as pdf:\n",
    "        # Iterate over each page\n",
    "        for page_num in range(pdf.page_count):\n",
    "            page = pdf[page_num]\n",
    "            text = page.get_text()\n",
    "\n",
    "            # Look for each term in test_terms and extract nearby values\n",
    "            for term in test_terms:\n",
    "                # Create a regex pattern to find term followed by numbers\n",
    "                pattern = rf\"({term})\\s*[:\\-]?\\s*([\\d\\.,]+)\"\n",
    "                matches = re.findall(pattern, text)\n",
    "\n",
    "                # Store matches in the dictionary\n",
    "                for match in matches:\n",
    "                    param, value = match\n",
    "                    blood_test_data[param] = value\n",
    "\n",
    "    return blood_test_data\n",
    "\n",
    "# Run the extraction function\n",
    "blood_test_data = extract_blood_test_data(pdf_path)\n",
    "print(blood_test_data)\n"
   ]
  }
 ],
 "metadata": {
  "language_info": {
   "name": "python"
  }
 },
 "nbformat": 4,
 "nbformat_minor": 2
}
