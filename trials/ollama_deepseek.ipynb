{
 "cells": [
  {
   "cell_type": "code",
   "execution_count": 1,
   "metadata": {},
   "outputs": [
    {
     "ename": "ModuleNotFoundError",
     "evalue": "No module named 'ollama'",
     "output_type": "error",
     "traceback": [
      "\u001b[0;31m---------------------------------------------------------------------------\u001b[0m",
      "\u001b[0;31mModuleNotFoundError\u001b[0m                       Traceback (most recent call last)",
      "Cell \u001b[0;32mIn[1], line 2\u001b[0m\n\u001b[1;32m      1\u001b[0m \u001b[38;5;28;01mfrom\u001b[39;00m \u001b[38;5;21;01mPIL\u001b[39;00m \u001b[38;5;28;01mimport\u001b[39;00m Image\n\u001b[0;32m----> 2\u001b[0m \u001b[38;5;28;01mimport\u001b[39;00m \u001b[38;5;21;01mollama\u001b[39;00m\n",
      "\u001b[0;31mModuleNotFoundError\u001b[0m: No module named 'ollama'"
     ]
    }
   ],
   "source": [
    "from PIL import Image\n",
    "import ollama"
   ]
  },
  {
   "cell_type": "code",
   "execution_count": null,
   "metadata": {},
   "outputs": [],
   "source": [
    "# ollama run x/llama3.2-vision:latest \"describe this image: /home/boom/sdev/aivet/data/ref1.png\"\n",
    "\n",
    "\n",
    "ollama run x/llama3.2-vision:latest \"Extract and list all blood test details.\n",
    "\n",
    "Objective:\n",
    "1. Identify and extract **chemical names** from the blood test report.\n",
    "2. Capture the **detected levels** of each chemical.\n",
    "3. Extract the **normal range** for each corresponding chemical.\n",
    "\n",
    "Expected Output Format:\n",
    "- Chemical Name: [Name]\n",
    "  - Detected Level: [Value]\n",
    "  - Normal Range: [Min Value] - [Max Value]\n",
    "\n",
    "Please ensure accurate extraction, including any unit symbols (e.g., mg/dL, IU/L), and handle variations in formatting or alignment. Return results in a structured list format for easy readability.\n",
    ": /home/boom/sdev/aivet/data/ref1.png\""
   ]
  },
  {
   "cell_type": "code",
   "execution_count": null,
   "metadata": {},
   "outputs": [],
   "source": [
    "ollama run x/llama3.2-vision:latest \"Extract and list all blood test details.\n",
    "\n",
    "Objective:\n",
    "1. Identify and extract **chemical names** from the blood test report.\n",
    "2. Capture the **detected levels** of each chemical.\n",
    "3. Extract the **normal range** for each corresponding chemical.\n",
    "\n",
    "Expected Output Format:\n",
    "- Chemical Name: [Name]\n",
    "  - Detected Level: [Value]\n",
    "  - Normal Range: [Min Value] - [Max Value]\n",
    "\n",
    "Please ensure accurate extraction, including any unit symbols (e.g., mg/dL, IU/L), and handle variations in formatting or alignment. Return results in a structured list format for easy readability.\n",
    ": /home/boom/sdev/aivet/data/_referti_10522430585_20241022_Assin_dicio_hope_Bio_24L4609.pdf\""
   ]
  },
  {
   "cell_type": "code",
   "execution_count": 5,
   "metadata": {},
   "outputs": [],
   "source": [
    "image_file = \"data/ref1.png\""
   ]
  },
  {
   "cell_type": "code",
   "execution_count": null,
   "metadata": {},
   "outputs": [],
   "source": [
    "from PIL import Image\n",
    "import base64\n",
    "import io\n",
    "\n",
    "\n",
    "def image_to_base64(image_path):\n",
    "    # Open the image file\n",
    "    with Image.open(image_path) as img:\n",
    "        # Create a BytesIO object to hold the image data\n",
    "        buffered = io.BytesIO()\n",
    "        # Save the image to the BytesIO object in a specific format (e.g., PNG)\n",
    "        img.save(buffered, format=\"PNG\")\n",
    "        # Get the byte data from the BytesIO object\n",
    "        img_bytes = buffered.getvalue()\n",
    "        # Encode the byte data to base64\n",
    "        img_base64 = base64.b64encode(img_bytes).decode(\"utf-8\")\n",
    "        return img_base64\n",
    "\n",
    "\n",
    "# Example usage\n",
    "image_path = image_file\n",
    "base64_image = image_to_base64(image_path)"
   ]
  },
  {
   "cell_type": "code",
   "execution_count": null,
   "metadata": {},
   "outputs": [
    {
     "name": "stdout",
     "output_type": "stream",
     "text": [
      "Model Response: The image presents a medical document, specifically a laboratory test result report, which is written in Italian. The purpose of the document is to provide a detailed analysis of various biochemical parameters and their corresponding values.\n",
      "\n",
      "Here are the key points about the image:\n",
      "\n",
      "* **Title**: \n",
      "\t+ The title \"PROFILO BIOCHIMICO\" is prominently displayed at the top of the page.\n",
      "* **Date**:\n",
      "\t+ The date \"22/10/2024\" is printed in the upper-right corner, indicating when the test was conducted.\n",
      "* **Patient Information**:\n",
      "\t+ The patient's name and ID number are listed on the left side of the page.\n",
      "\t+ The doctor's name and contact information are also provided.\n",
      "* **Test Results**:\n",
      "\t+ The report includes a comprehensive list of biochemical parameters, including CPK, AST, ALT, ALP, GGT, Bilirubin, Protein, Albumin, Globulin, Rapp. Alb/Glob, Colesterolo, Trigliceridi, Amilasi, Lipasi, Urea, CREA, Glucosio, Calcio, Fosforo, Sodio, Potassio, Rapp. Na/K, Cloro, Magnesio, and Calcio Ionico.\n",
      "\t+ Each parameter has a corresponding value, which is expressed in units such as IU/L, mg/dL, or mmol/L.\n",
      "\n",
      "In summary, the image shows a detailed laboratory test result report that provides valuable information about a patient's biochemical parameters. The report includes a range of tests, including liver function tests, kidney function tests, and electrolyte levels, all with corresponding values in various units. Overall, the document appears to be a standard medical report used by healthcare professionals to diagnose and monitor patients' health conditions.\n"
     ]
    }
   ],
   "source": [
    "# Use Ollama to analyze the image with Llama 3.2-Vision\n",
    "response = ollama.chat(\n",
    "    model=\"x/llama3.2-vision:latest\",\n",
    "    messages=[\n",
    "        {\"role\": \"user\", \"content\": \"Describe this image?\", \"images\": [base64_image]}\n",
    "    ],\n",
    ")\n",
    "\n",
    "# Extract the model's response about the image\n",
    "cleaned_text = response[\"message\"][\"content\"].strip()\n",
    "print(f\"Model Response: {cleaned_text}\")"
   ]
  },
  {
   "cell_type": "code",
   "execution_count": 9,
   "metadata": {},
   "outputs": [],
   "source": [
    "query = \"\"\"Task: Extract and list all blood test details.\n",
    "\n",
    "Objective:\n",
    "1. Identify and extract **chemical names** from the blood test report.\n",
    "2. Capture the **detected levels** of each chemical.\n",
    "3. Extract the **normal range** for each corresponding chemical.\n",
    "\n",
    "Expected Output Format:\n",
    "- Chemical Name: [Name]\n",
    "  - Detected Level: [Value]\n",
    "  - Normal Range: [Min Value] - [Max Value]\n",
    "\n",
    "Please ensure accurate extraction, including any unit symbols (e.g., mg/dL, IU/L), and handle variations in formatting or alignment. Return results in a structured list format for easy readability.\"\"\""
   ]
  },
  {
   "cell_type": "code",
   "execution_count": null,
   "metadata": {},
   "outputs": [
    {
     "name": "stdout",
     "output_type": "stream",
     "text": [
      "Model Response: **Blood Test Details**\n",
      "\n",
      "| Chemical Name | Detected Level | Normal Range |\n",
      "| --- | --- | --- |\n",
      "| CPK (IU/L) | 217 | - |\n",
      "| AST (IU/L) | 36 | - |\n",
      "| ALT (IU/L) | 83 | - |\n",
      "| ALP (IU/L) | 2780 | - |\n",
      "| GGT (IU/L) | 3.0 | - |\n",
      "| Bilirubin Tot (mg/dL) | 0.10 | 0.1-1.2 |\n",
      "| Proteine Tot (g/dL) | 7.2 | 6.5-8.3 |\n",
      "| Albumine (g/dL) | 3.26 | 3.4-5.0 |\n",
      "| Globuline (g/dL) | 3.90 | - |\n",
      "| Rapp. Alb/Glob | 0.84 | - |\n",
      "| Colesterolo (mg/dL) | 201 | 130-220 |\n",
      "| Trigliceridi (mg/dL) | 158 | 30-150 |\n",
      "| Amilasi (IU/L) | 836 | 20-120 |\n",
      "| Lipasi (IU/L) | 64 | - |\n",
      "| UREA (mg/dL) | 21 | 10-50 |\n",
      "| CREA (mg/dL) | 0.69 | 0.6-1.2 |\n",
      "| Glucosio (mg/dL) | 88 | 70-110 |\n",
      "| Calcio (mg/dL) | 9.80 | 8.5-10.5 |\n",
      "| Acido Urico (mg/dL) | 3.90 | - |\n",
      "| Fosforo (mg/dL) | 3.90 | 2.7-4.5 |\n",
      "| Sodio (mEq/L) | 150 | 135-145 |\n",
      "| Potassio (mEq/L) | 4.9 | 3.5-5.0 |\n",
      "| Rapp. Na/K | 30.61 | - |\n",
      "| Cloro (mEq/L) | 111 | 95-105 |\n",
      "| Magnesio (mg/dL) | 1.50 | 1.6-2.3 |\n",
      "\n",
      "Note: The normal ranges provided are general references and may vary depending on the laboratory or specific medical context. It is essential to consult with a healthcare professional for accurate interpretation of these results in relation to an individual's health status.\n"
     ]
    }
   ],
   "source": [
    "# Use Ollama to analyze the image with Llama 3.2-Vision\n",
    "response = ollama.chat(\n",
    "    model=\"x/llama3.2-vision:latest\",\n",
    "    messages=[{\"role\": \"user\", \"content\": query, \"images\": [base64_image]}],\n",
    ")\n",
    "\n",
    "# Extract the model's response about the image\n",
    "cleaned_text = response[\"message\"][\"content\"].strip()\n",
    "print(f\"Model Response: {cleaned_text}\")"
   ]
  },
  {
   "cell_type": "code",
   "execution_count": 13,
   "metadata": {},
   "outputs": [],
   "source": [
    "query = \"This image contains blood test results. You can see the molecule name, the detected level and the minimum and maximum normal levels. Extract all the blood test chemical name values, their detected level and the corresponding normal range and return only those molecules which have abnormal values.\""
   ]
  },
  {
   "cell_type": "code",
   "execution_count": null,
   "metadata": {},
   "outputs": [
    {
     "name": "stdout",
     "output_type": "stream",
     "text": [
      "Model Response: The following is a list of the blood test chemical names with their detected levels and normal ranges:\n",
      "\n",
      "*   **CPK (IU/L)**: 217 (normal range: 45-155)\n",
      "*   **AST (IU/L)**: 36 (normal range: 10-45)\n",
      "*   **ALT (IU/L)**: 83 (normal range: 10-60)\n",
      "*   **ALP (IU/L)**: 2780 (normal range: 45-152)\n",
      "*   **GGT (IU/L)**: 3.0 (normal range: 0.1-13)\n",
      "*   **Bilirubin Total (mg/dL)**: 7.2 (normal range: 0.10-1.0)\n",
      "*   **Protein Total (g/dL)**: 7.2 (normal range: 6.4-8.3)\n",
      "*   **Albumin (g/dL)**: 3.26 (normal range: 3.5-5.0)\n",
      "*   **Globaline (g/dL)**: 3.90 (normal range: 2.6-4.5)\n",
      "*   **Rapp. Alb/Glob**: 0.84 (normal range: 1.91)\n",
      "*   **Colesterolo (mg/dL)**: 201 (normal range: 120-300)\n",
      "*   **Trigliceridi (mg/dL)**: 158 (normal range: 30-95)\n",
      "*   **Amilasi (IU/L)**: 836 (normal range: 0-200)\n",
      "*   **Lipasi (IU/L)**: 64 (normal range: 10-350)\n",
      "*   **Urea (mg/dL)**: 21 (normal range: 15-45)\n",
      "*   **CREA (mg/dL)**: 0.69 (normal range: 0.60-1.80)\n",
      "*   **Glucosio (mg/dL)**: 88 (normal range: 70-110)\n",
      "*   **Calcio (mg/dL)**: 9.80 (normal range: 8.0-12.0)\n",
      "*   **Acido Urico (mg/dL)**: 3.90 (normal range: 2.5-5.6)\n",
      "*   **Fosforo (mEq/L)**: 150 (normal range: 144-155)\n",
      "*   **Sodio (mEq/L)**: 4.9 (normal range: 3.3-5.4)\n",
      "*   **Potassio (mEq/L)**: 30.61 (normal range: >27)\n",
      "*   **Rapp. Na/K**: 111 (normal range: 100-118)\n",
      "*   **Cloro (mEq/L)**: 1.50 (normal range: 1.60-2.48)\n",
      "*   **Magnesio (mg/dL)**: 1.50 (normal range: 0.97-1.34)\n",
      "\n",
      "The following molecules have abnormal values:\n",
      "\n",
      "*   **CPK**: 217 (normal range: 45-155)\n",
      "*   **ALP**: 2780 (normal range: 45-152)\n",
      "*   **GGT**: 3.0 (normal range: 0.1-13)\n",
      "*   **Bilirubin Total**: 7.2 (normal range: 0.10-1.0)\n",
      "*   **Protein Total**: 7.2 (normal range: 6.4-8.3)\n",
      "*   **Albumin**: 3.26 (normal range: 3.5-5.0)\n",
      "*   **Globaline**: 3.90 (normal range: 2.6-4.5)\n",
      "*   **Colesterolo**: 201 (normal range: 120-300)\n",
      "*   **Trigliceridi**: 158 (normal range: 30-95)\n",
      "*   **Amilasi**: 836 (normal range: 0-200)\n",
      "*   **Lipasi**: 64 (normal range: 10-350)\n",
      "*   **Urea**: 21 (normal range: 15-45)\n",
      "*   **CREA**: 0.69 (normal range: 0.60-1.80)\n",
      "*   **Glucosio**: 88 (normal range: 70-110)\n",
      "*   **Calcio**: 9.80 (normal range: 8.0-12.0)\n",
      "*   **Acido Urico**: 3.90 (normal range: 2.5-5.6)\n",
      "*   **Fosforo**: 150 (normal range: 144-155)\n",
      "*   **Sodio**: 4.9 (normal range: 3.3-5.4)\n",
      "*   **Potassio**: 30.61 (normal range: >27)\n",
      "*   **Rapp. Na/K**: 111 (normal range: 100-118)\n",
      "*   **Cloro**: 1.50 (normal range: 1.60-2.48)\n",
      "*   **Magnesio**: 1.50 (normal range: 0.97-1.34)\n"
     ]
    }
   ],
   "source": [
    "# Use Ollama to analyze the image with Llama 3.2-Vision\n",
    "response = ollama.chat(\n",
    "    model=\"x/llama3.2-vision:latest\",\n",
    "    messages=[{\"role\": \"user\", \"content\": query, \"images\": [base64_image]}],\n",
    ")\n",
    "\n",
    "# Extract the model's response about the image\n",
    "cleaned_text = response[\"message\"][\"content\"].strip()\n",
    "print(f\"Model Response: {cleaned_text}\")"
   ]
  },
  {
   "cell_type": "code",
   "execution_count": null,
   "metadata": {},
   "outputs": [],
   "source": []
  }
 ],
 "metadata": {
  "kernelspec": {
   "display_name": "llama32",
   "language": "python",
   "name": "python3"
  },
  "language_info": {
   "codemirror_mode": {
    "name": "ipython",
    "version": 3
   },
   "file_extension": ".py",
   "mimetype": "text/x-python",
   "name": "python",
   "nbconvert_exporter": "python",
   "pygments_lexer": "ipython3",
   "version": "3.11.0"
  }
 },
 "nbformat": 4,
 "nbformat_minor": 2
}
